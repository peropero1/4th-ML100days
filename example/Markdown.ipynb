{
 "cells": [
  {
   "cell_type": "markdown",
   "metadata": {},
   "source": [
    "# 表格\n",
    "\n",
    "|标题一|标题二|标题三|标题四|\n",
    "|- |:---|---:|:---:|\n",
    "|居中|居左|居右|居中|\n",
    "|居中|居左|居右|居中|\n",
    "|单元格内换行<br>换行|单元格内换行<br>换行|单元格内换行<br>换行|单元格内换行<br>换行|\n",
    "\n",
    "\n",
    "Default    | Left       | Center     | Right\n",
    "-----------| :--------- | :--------: | ---------: \n",
    "         x |          x |          x |          x \n",
    "xxxxxxxxxx | xxxxxxxxxx | xxxxxxxxxx | xxxxxxxxxx"
   ]
  },
  {
   "cell_type": "markdown",
   "metadata": {},
   "source": [
    "# 文字對齊\n",
    "#文字居中\n",
    "<center>Markdown</center>\n",
    "\n",
    "#文字左对齐\n",
    "<p align = \"left\">Markdown</p>\n",
    "\n",
    "#文字右对齐\n",
    "<p align=\"right\" >Markdown</p>"
   ]
  },
  {
   "cell_type": "code",
   "execution_count": null,
   "metadata": {},
   "outputs": [],
   "source": []
  }
 ],
 "metadata": {
  "kernelspec": {
   "display_name": "Python 3",
   "language": "python",
   "name": "python3"
  },
  "language_info": {
   "codemirror_mode": {
    "name": "ipython",
    "version": 3
   },
   "file_extension": ".py",
   "mimetype": "text/x-python",
   "name": "python",
   "nbconvert_exporter": "python",
   "pygments_lexer": "ipython3",
   "version": "3.6.5"
  }
 },
 "nbformat": 4,
 "nbformat_minor": 4
}
